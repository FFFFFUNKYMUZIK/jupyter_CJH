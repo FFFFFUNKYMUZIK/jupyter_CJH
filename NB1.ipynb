{
 "cells": [
  {
   "cell_type": "code",
   "execution_count": 4,
   "metadata": {
    "collapsed": true
   },
   "outputs": [],
   "source": [
    "import tensorflow as tf"
   ]
  },
  {
   "cell_type": "code",
   "execution_count": 5,
   "metadata": {
    "collapsed": false
   },
   "outputs": [
    {
     "name": "stdout",
     "output_type": "stream",
     "text": [
      "0\n",
      "1\n",
      "2\n",
      "3\n",
      "Tensor(\"Add:0\", shape=(), dtype=int32)\n"
     ]
    }
   ],
   "source": [
    "#변수 생성 및 초기화\n",
    "state = tf.Variable(0, name=\"counter\")\n",
    "\n",
    "#state 갱신 operation 정의\n",
    "one = tf.constant(1)\n",
    "new_value = tf.add(state, one)\n",
    "update = tf.assign(state, new_value)\n",
    "\n",
    "#init operation 생성\n",
    "init_op = tf.initialize_all_variables()\n",
    "\n",
    "#그래프 띄우고 operation 실행\n",
    "\n",
    "with tf.Session() as sess:\n",
    "    # 초기화 operation\n",
    "    sess.run(init_op)\n",
    "    # state 초기값 출력\n",
    "    print(sess.run(state))\n",
    "    # state 갱신 operation 실행\n",
    "    for _ in range(3):\n",
    "        sess.run(update)\n",
    "        print(sess.run(state))\n",
    "        \n",
    "    print(new_value)\n",
    "        "
   ]
  },
  {
   "cell_type": "code",
   "execution_count": 9,
   "metadata": {
    "collapsed": false,
    "scrolled": false
   },
   "outputs": [
    {
     "name": "stdout",
     "output_type": "stream",
     "text": [
      "0 [[0.26227924 0.09502694]] [0.56471497]\n",
      "20 [[0.10440636 0.14945224]] [0.32400632]\n",
      "40 [[0.09781944 0.18677472]] [0.30799487]\n",
      "60 [[0.09847291 0.19632748]] [0.30269393]\n",
      "80 [[0.0993115  0.19892152]] [0.30091453]\n",
      "100 [[0.09972891 0.19966799]] [0.30031195]\n",
      "120 [[0.09989958 0.199894  ]] [0.30010673]\n",
      "140 [[0.09996398 0.19996528]] [0.30003655]\n",
      "160 [[0.09998732 0.19998844]] [0.30001253]\n",
      "180 [[0.09999557 0.19999611]] [0.3000043]\n",
      "200 [[0.09999847 0.19999866]] [0.30000147]\n"
     ]
    }
   ],
   "source": [
    "import tensorflow as tf\n",
    "import numpy as np\n",
    "\n",
    "# Numpy 랜덤으로 100개의 가짜 데이터 채우기. (float64 -> float32로 변환)\n",
    "x_data = np.float32(np.random.rand(2, 100))\n",
    "# 학습 레이블(목표값)은 아래의 식으로 산출. (W = [0.1, 0.2], b = 0.3)\n",
    "y_data = np.dot([0.100, 0.200], x_data) + 0.300\n",
    "\n",
    "# b는 0,\n",
    "b = tf.Variable(tf.zeros([1]))\n",
    "# W는 1x2 형태의 웨이트 변수 (균등 랜덤값으로 초기화)\n",
    "W = tf.Variable(tf.random_uniform([1, 2], -1.0, 1.0))\n",
    "y = tf.matmul(W, x_data) + b\n",
    "\n",
    "# 손실 함수 정의\n",
    "loss = tf.reduce_mean(tf.square(y - y_data))\n",
    "# 경사하강법으로 손실 함수를 최소화 (0.5는 학습 비율)\n",
    "optimizer = tf.train.GradientDescentOptimizer(0.5)\n",
    "# 학습 오퍼레이션 정의\n",
    "train = optimizer.minimize(loss)\n",
    "\n",
    "# 모든 변수를 초기화.\n",
    "init = tf.initialize_all_variables()\n",
    "\n",
    "# 세션 시작\n",
    "sess = tf.Session()\n",
    "sess.run(init)\n",
    "\n",
    "# 200번 학습.\n",
    "for step in range(0, 201):\n",
    "    sess.run(train)\n",
    "    if step % 20 == 0:\n",
    "        print (step, sess.run(W), sess.run(b))"
   ]
  },
  {
   "cell_type": "code",
   "execution_count": 19,
   "metadata": {
    "collapsed": false
   },
   "outputs": [
    {
     "name": "stdout",
     "output_type": "stream",
     "text": [
      "2.0\n",
      "Tensor(\"Const_28:0\", shape=(), dtype=float32)\n",
      "node3: Tensor(\"Add_11:0\", shape=(), dtype=float32)\n",
      "sess.run(node3): 5.0\n",
      "[7.5 8.2]\n",
      "[1.3000001 1.        0.46      0.52     ]\n",
      "9.74\n"
     ]
    }
   ],
   "source": [
    "import tensorflow as tf\n",
    "node1=tf.constant(2.0)\n",
    "node2=tf.constant(3.0)\n",
    "sess=tf.Session()\n",
    "print(sess.run(node1))\n",
    "print(node1)\n",
    "\n",
    "node3=tf.add(node1,node2)\n",
    "print(\"node3:\", node3)\n",
    "print(\"sess.run(node3):\",sess.run(node3))\n",
    "\n",
    "a=tf.placeholder(tf.float32)\n",
    "b=tf.placeholder(tf.float32)\n",
    "\n",
    "adder_node =a+b\n",
    "\n",
    "print(sess.run(adder_node, feed_dict =  {a:[3, 3.5], b:[4.5, 4.7]}))\n",
    "\n",
    "v1 = tf.Variable([.3], dtype=tf.float32)\n",
    "v2 = tf.Variable([.4], dtype=tf.float32)\n",
    "x=tf.placeholder(tf.float32)\n",
    "linear_comb=x*v1+v2\n",
    "\n",
    "init = tf.global_variables_initializer()\n",
    "sess.run(init)\n",
    "\n",
    "print(sess.run(linear_comb, feed_dict= {x:[3., 2., .2, .4]}))\n",
    "\n",
    "y=tf.placeholder(tf.float32)\n",
    "squared_deltas = tf.square(linear_comb-y)\n",
    "loss = tf.reduce_sum(squared_deltas)\n",
    "print(sess.run(loss, {x:[1, 2, 3, 4], y:[1, 2, 3, 4]}))"
   ]
  },
  {
   "cell_type": "code",
   "execution_count": null,
   "metadata": {
    "collapsed": true
   },
   "outputs": [],
   "source": []
  }
 ],
 "metadata": {
  "anaconda-cloud": {},
  "kernelspec": {
   "display_name": "Python [conda env:tensorflow]",
   "language": "python",
   "name": "conda-env-tensorflow-py"
  },
  "language_info": {
   "codemirror_mode": {
    "name": "ipython",
    "version": 3
   },
   "file_extension": ".py",
   "mimetype": "text/x-python",
   "name": "python",
   "nbconvert_exporter": "python",
   "pygments_lexer": "ipython3",
   "version": "3.5.4"
  }
 },
 "nbformat": 4,
 "nbformat_minor": 2
}
